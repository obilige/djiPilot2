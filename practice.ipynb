{
 "cells": [
  {
   "cell_type": "code",
   "execution_count": 2,
   "metadata": {},
   "outputs": [
    {
     "data": {
      "text/plain": [
       "['online1',\n",
       " 'online2',\n",
       " 'online3',\n",
       " 'online4',\n",
       " 'online5',\n",
       " 'online6',\n",
       " 'online7',\n",
       " 'online8',\n",
       " 'online9',\n",
       " 'online10',\n",
       " 'online11',\n",
       " 'online12',\n",
       " 'online13',\n",
       " 'online14',\n",
       " 'online15',\n",
       " 'online16',\n",
       " 'online17',\n",
       " 'online18',\n",
       " 'online19',\n",
       " 'online20',\n",
       " 'online21',\n",
       " 'online22',\n",
       " 'online23',\n",
       " 'online24',\n",
       " 'online25',\n",
       " 'online26',\n",
       " 'online27',\n",
       " 'online28',\n",
       " 'online29',\n",
       " 'online30',\n",
       " 'online31',\n",
       " 'online32',\n",
       " 'online33',\n",
       " 'online34',\n",
       " 'online35',\n",
       " 'online36',\n",
       " 'online37',\n",
       " 'online38',\n",
       " 'online39',\n",
       " 'online40',\n",
       " 'online41',\n",
       " 'online42',\n",
       " 'online43',\n",
       " 'online44',\n",
       " 'online45',\n",
       " 'online46',\n",
       " 'online47',\n",
       " 'online48',\n",
       " 'online49',\n",
       " 'online50',\n",
       " 'online51',\n",
       " 'online52',\n",
       " 'online53',\n",
       " 'online54',\n",
       " 'online55',\n",
       " 'online56',\n",
       " 'online57',\n",
       " 'online58',\n",
       " 'online59',\n",
       " 'online60',\n",
       " 'online61',\n",
       " 'online62',\n",
       " 'online63',\n",
       " 'online64',\n",
       " 'online65',\n",
       " 'online66',\n",
       " 'online67',\n",
       " 'online68',\n",
       " 'online69',\n",
       " 'online70',\n",
       " 'online71',\n",
       " 'online72',\n",
       " 'online73',\n",
       " 'online74',\n",
       " 'online75',\n",
       " 'online76',\n",
       " 'online77',\n",
       " 'online78',\n",
       " 'online79',\n",
       " 'online80',\n",
       " 'online81',\n",
       " 'online82',\n",
       " 'online83',\n",
       " 'online84',\n",
       " 'online85',\n",
       " 'online86',\n",
       " 'online87',\n",
       " 'online88',\n",
       " 'online89',\n",
       " 'online90',\n",
       " 'online91',\n",
       " 'online92',\n",
       " 'online93',\n",
       " 'online94',\n",
       " 'online95',\n",
       " 'online96',\n",
       " 'online97',\n",
       " 'online98',\n",
       " 'online99',\n",
       " 'online100']"
      ]
     },
     "execution_count": 2,
     "metadata": {},
     "output_type": "execute_result"
    }
   ],
   "source": [
    "test = [f\"online{i}\" for i in range(1, 101, 1)]\n",
    "test"
   ]
  },
  {
   "cell_type": "code",
   "execution_count": 3,
   "metadata": {},
   "outputs": [
    {
     "data": {
      "text/plain": [
       "['online1',\n",
       " 'online3',\n",
       " 'online5',\n",
       " 'online7',\n",
       " 'online9',\n",
       " 'online11',\n",
       " 'online13',\n",
       " 'online15',\n",
       " 'online17',\n",
       " 'online19',\n",
       " 'online21',\n",
       " 'online23',\n",
       " 'online25',\n",
       " 'online27',\n",
       " 'online29',\n",
       " 'online31',\n",
       " 'online33',\n",
       " 'online35',\n",
       " 'online37',\n",
       " 'online39',\n",
       " 'online41',\n",
       " 'online43',\n",
       " 'online45',\n",
       " 'online47',\n",
       " 'online49',\n",
       " 'online51',\n",
       " 'online53',\n",
       " 'online55',\n",
       " 'online57',\n",
       " 'online59',\n",
       " 'online61',\n",
       " 'online63',\n",
       " 'online65',\n",
       " 'online67',\n",
       " 'online69',\n",
       " 'online71',\n",
       " 'online73',\n",
       " 'online75',\n",
       " 'online77',\n",
       " 'online79',\n",
       " 'online81',\n",
       " 'online83',\n",
       " 'online85',\n",
       " 'online87',\n",
       " 'online89',\n",
       " 'online91',\n",
       " 'online93',\n",
       " 'online95',\n",
       " 'online97',\n",
       " 'online99']"
      ]
     },
     "execution_count": 3,
     "metadata": {},
     "output_type": "execute_result"
    }
   ],
   "source": [
    "test1 = [f\"online{i}\" for i in range(1, 101, 2)]\n",
    "test1"
   ]
  },
  {
   "cell_type": "code",
   "execution_count": 5,
   "metadata": {},
   "outputs": [
    {
     "data": {
      "text/plain": [
       "['online64',\n",
       " 'online28',\n",
       " 'online4',\n",
       " 'online98',\n",
       " 'online54',\n",
       " 'online56',\n",
       " 'online16',\n",
       " 'online88',\n",
       " 'online100',\n",
       " 'online92',\n",
       " 'online66',\n",
       " 'online6',\n",
       " 'online52',\n",
       " 'online86',\n",
       " 'online8',\n",
       " 'online2',\n",
       " 'online10',\n",
       " 'online82',\n",
       " 'online46',\n",
       " 'online48',\n",
       " 'online50',\n",
       " 'online70',\n",
       " 'online58',\n",
       " 'online60',\n",
       " 'online22',\n",
       " 'online62',\n",
       " 'online80',\n",
       " 'online30',\n",
       " 'online40',\n",
       " 'online26',\n",
       " 'online24',\n",
       " 'online78',\n",
       " 'online44',\n",
       " 'online18',\n",
       " 'online38',\n",
       " 'online12',\n",
       " 'online90',\n",
       " 'online32',\n",
       " 'online94',\n",
       " 'online96',\n",
       " 'online36',\n",
       " 'online72',\n",
       " 'online42',\n",
       " 'online14',\n",
       " 'online68',\n",
       " 'online34',\n",
       " 'online74',\n",
       " 'online84',\n",
       " 'online76',\n",
       " 'online20']"
      ]
     },
     "execution_count": 5,
     "metadata": {},
     "output_type": "execute_result"
    }
   ],
   "source": [
    "out = set(test) - set(test1)\n",
    "out = list(out)\n",
    "out"
   ]
  },
  {
   "cell_type": "code",
   "execution_count": 6,
   "metadata": {},
   "outputs": [
    {
     "data": {
      "text/plain": [
       "'online76'"
      ]
     },
     "execution_count": 6,
     "metadata": {},
     "output_type": "execute_result"
    }
   ],
   "source": [
    "import random\n",
    "\n",
    "choice = random.choice(out)\n",
    "choice"
   ]
  },
  {
   "cell_type": "code",
   "execution_count": 7,
   "metadata": {},
   "outputs": [
    {
     "data": {
      "text/plain": [
       "{1: 'device_online1',\n",
       " 2: 'device_online2',\n",
       " 3: 'device_online3',\n",
       " 4: 'device_online4',\n",
       " 5: 'device_online5',\n",
       " 6: 'device_online6',\n",
       " 7: 'device_online7',\n",
       " 8: 'device_online8',\n",
       " 9: 'device_online9',\n",
       " 10: 'device_online10',\n",
       " 11: 'device_online11',\n",
       " 12: 'device_online12',\n",
       " 13: 'device_online13',\n",
       " 14: 'device_online14',\n",
       " 15: 'device_online15',\n",
       " 16: 'device_online16',\n",
       " 17: 'device_online17',\n",
       " 18: 'device_online18',\n",
       " 19: 'device_online19',\n",
       " 20: 'device_online20',\n",
       " 21: 'device_online21',\n",
       " 22: 'device_online22',\n",
       " 23: 'device_online23',\n",
       " 24: 'device_online24',\n",
       " 25: 'device_online25',\n",
       " 26: 'device_online26',\n",
       " 27: 'device_online27',\n",
       " 28: 'device_online28',\n",
       " 29: 'device_online29',\n",
       " 30: 'device_online30',\n",
       " 31: 'device_online31',\n",
       " 32: 'device_online32',\n",
       " 33: 'device_online33',\n",
       " 34: 'device_online34',\n",
       " 35: 'device_online35',\n",
       " 36: 'device_online36',\n",
       " 37: 'device_online37',\n",
       " 38: 'device_online38',\n",
       " 39: 'device_online39',\n",
       " 40: 'device_online40',\n",
       " 41: 'device_online41',\n",
       " 42: 'device_online42',\n",
       " 43: 'device_online43',\n",
       " 44: 'device_online44',\n",
       " 45: 'device_online45',\n",
       " 46: 'device_online46',\n",
       " 47: 'device_online47',\n",
       " 48: 'device_online48',\n",
       " 49: 'device_online49',\n",
       " 50: 'device_online50',\n",
       " 51: 'device_online51',\n",
       " 52: 'device_online52',\n",
       " 53: 'device_online53',\n",
       " 54: 'device_online54',\n",
       " 55: 'device_online55',\n",
       " 56: 'device_online56',\n",
       " 57: 'device_online57',\n",
       " 58: 'device_online58',\n",
       " 59: 'device_online59',\n",
       " 60: 'device_online60',\n",
       " 61: 'device_online61',\n",
       " 62: 'device_online62',\n",
       " 63: 'device_online63',\n",
       " 64: 'device_online64',\n",
       " 65: 'device_online65',\n",
       " 66: 'device_online66',\n",
       " 67: 'device_online67',\n",
       " 68: 'device_online68',\n",
       " 69: 'device_online69',\n",
       " 70: 'device_online70',\n",
       " 71: 'device_online71',\n",
       " 72: 'device_online72',\n",
       " 73: 'device_online73',\n",
       " 74: 'device_online74',\n",
       " 75: 'device_online75',\n",
       " 76: 'device_online76',\n",
       " 77: 'device_online77',\n",
       " 78: 'device_online78',\n",
       " 79: 'device_online79',\n",
       " 80: 'device_online80',\n",
       " 81: 'device_online81',\n",
       " 82: 'device_online82',\n",
       " 83: 'device_online83',\n",
       " 84: 'device_online84',\n",
       " 85: 'device_online85',\n",
       " 86: 'device_online86',\n",
       " 87: 'device_online87',\n",
       " 88: 'device_online88',\n",
       " 89: 'device_online89',\n",
       " 90: 'device_online90',\n",
       " 91: 'device_online91',\n",
       " 92: 'device_online92',\n",
       " 93: 'device_online93',\n",
       " 94: 'device_online94',\n",
       " 95: 'device_online95',\n",
       " 96: 'device_online96',\n",
       " 97: 'device_online97',\n",
       " 98: 'device_online98',\n",
       " 99: 'device_online99',\n",
       " 100: 'device_online100'}"
      ]
     },
     "execution_count": 7,
     "metadata": {},
     "output_type": "execute_result"
    }
   ],
   "source": [
    "device_online = {i:f\"device_online{i}\" for i in range(1, 101)}\n",
    "device_online"
   ]
  },
  {
   "cell_type": "code",
   "execution_count": 8,
   "metadata": {},
   "outputs": [
    {
     "data": {
      "text/plain": [
       "1"
      ]
     },
     "execution_count": 8,
     "metadata": {},
     "output_type": "execute_result"
    }
   ],
   "source": [
    "min(device_online)"
   ]
  },
  {
   "cell_type": "code",
   "execution_count": 9,
   "metadata": {},
   "outputs": [
    {
     "data": {
      "text/plain": [
       "100"
      ]
     },
     "execution_count": 9,
     "metadata": {},
     "output_type": "execute_result"
    }
   ],
   "source": [
    "max(device_online)"
   ]
  },
  {
   "cell_type": "code",
   "execution_count": 6,
   "metadata": {},
   "outputs": [
    {
     "name": "stdout",
     "output_type": "stream",
     "text": [
      "False\n"
     ]
    }
   ],
   "source": []
  },
  {
   "cell_type": "code",
   "execution_count": null,
   "metadata": {},
   "outputs": [],
   "source": []
  }
 ],
 "metadata": {
  "kernelspec": {
   "display_name": "base",
   "language": "python",
   "name": "python3"
  },
  "language_info": {
   "codemirror_mode": {
    "name": "ipython",
    "version": 3
   },
   "file_extension": ".py",
   "mimetype": "text/x-python",
   "name": "python",
   "nbconvert_exporter": "python",
   "pygments_lexer": "ipython3",
   "version": "3.9.17"
  },
  "orig_nbformat": 4
 },
 "nbformat": 4,
 "nbformat_minor": 2
}
